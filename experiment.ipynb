{
 "cells": [
  {
   "attachments": {},
   "cell_type": "markdown",
   "metadata": {},
   "source": [
    "# Make dataset"
   ]
  },
  {
   "cell_type": "code",
   "execution_count": 39,
   "metadata": {},
   "outputs": [],
   "source": [
    "import numpy as np\n",
    "import jax.numpy as jnp\n",
    "from jax import random\n",
    "from utils import topk_binary_matrix\n",
    "\n",
    "key = random.PRNGKey(0)\n",
    "n = 100\n",
    "d = 50\n",
    "m = 10\n",
    "k = 5\n",
    "sparsity_list = [1, 3, 5]\n",
    "svd_prec = 1e-8"
   ]
  },
  {
   "cell_type": "code",
   "execution_count": 40,
   "metadata": {},
   "outputs": [],
   "source": [
    "N_train = 200\n",
    "N_test  = 100\n",
    "N_all   = N_train + N_test\n",
    "N_trial = 30\n",
    "\n",
    "idx_mat = random.permutation(key, jnp.tile(jnp.arange(N_all), [N_trial, 1]), axis = 1, independent=True)\n",
    "idx_mat_train = idx_mat[:, :N_train]\n",
    "idx_mat_test  = idx_mat[:, N_train:]\n",
    "\n",
    "Lk, Rk = random.uniform(key, [n, k], minval=0, maxval=1), random.uniform(key, [k, d], minval=0, maxval=1)\n",
    "Ak = Lk @ Rk\n",
    "As = Ak + .1*random.normal(key, [N_all, n, d])\n",
    "As /= jnp.outer(jnp.linalg.norm(As, ord=\"fro\", axis=(1,2)), jnp.ones([n, d])).reshape(As.shape)"
   ]
  },
  {
   "cell_type": "code",
   "execution_count": 41,
   "metadata": {},
   "outputs": [],
   "source": [
    "np.savez('data/input', \n",
    "        As=As, \n",
    "        n=n,\n",
    "        d=d,\n",
    "        m=m,\n",
    "        k=k,\n",
    "        sparsity_list=sparsity_list,\n",
    "        svd_prec=svd_prec\n",
    "        )\n",
    "np.savez('data/setting',\n",
    "        idx_mat_train=idx_mat_train,\n",
    "        idx_mat_test=idx_mat_test,\n",
    "        N_train=N_train,\n",
    "        N_test=N_test, \n",
    "        N_all=N_all,  \n",
    "        N_trial=N_trial\n",
    "        )       "
   ]
  },
  {
   "attachments": {},
   "cell_type": "markdown",
   "metadata": {},
   "source": [
    "## Make S0 and S_init"
   ]
  },
  {
   "cell_type": "code",
   "execution_count": 42,
   "metadata": {},
   "outputs": [],
   "source": [
    "for s in sparsity_list:\n",
    "    S0 = topk_binary_matrix(random.normal(key, [m, n]), s)\n",
    "    S_init = jnp.where(random.bernoulli(key, .5, [m, n]), 1.0, -1.0) * S0\n",
    "    S_init /= jnp.linalg.norm(S_init, ord=\"fro\")\n",
    "    np.savez('data/params_s{}'.format(s),\n",
    "        s=s,\n",
    "        S0=S0,\n",
    "        S_init=S_init\n",
    "        )"
   ]
  },
  {
   "cell_type": "markdown",
   "metadata": {},
   "source": [
    "# Load data"
   ]
  },
  {
   "cell_type": "code",
   "execution_count": 1,
   "metadata": {},
   "outputs": [],
   "source": [
    "import numpy as np\n",
    "import pandas as pd\n",
    "import jax.numpy as jnp\n",
    "from jax import grad\n",
    "from utils import topk_binary_matrix, svd_trnc, scw\n",
    "\n",
    "input_data = np.load(\"data/input.npz\")\n",
    "setting = np.load(\"data/setting.npz\")\n",
    "\n",
    "As = input_data[\"As\"] \n",
    "n = input_data[\"n\"]\n",
    "d = input_data[\"d\"]\n",
    "m = input_data[\"m\"]\n",
    "k = input_data[\"k\"]\n",
    "sparsity_list = input_data[\"sparsity_list\"]\n",
    "svd_prec = input_data[\"svd_prec\"]\n",
    "\n",
    "idx_mat_train = setting[\"idx_mat_train\"]\n",
    "idx_mat_test = setting[\"idx_mat_test\"]\n",
    "N_train = setting[\"N_train\"]\n",
    "N_test = setting[\"N_test\"]\n",
    "N_all = setting[\"N_all\"]\n",
    "N_trial = setting[\"N_trial\"]\n",
    "\n",
    "def loss(S, U, Uk):\n",
    "    return jnp.linalg.norm(Uk.T@(S.T@S)@U - jnp.concatenate([jnp.eye(k), jnp.zeros([k, d-k])], axis=1), ord='fro')**2 \n",
    "\n",
    "grad_fn = grad(loss, argnums=0)"
   ]
  },
  {
   "cell_type": "markdown",
   "metadata": {},
   "source": [
    "# Run experiment"
   ]
  },
  {
   "cell_type": "code",
   "execution_count": 24,
   "metadata": {},
   "outputs": [
    {
     "name": "stdout",
     "output_type": "stream",
     "text": [
      "Dense 1.8056490421295166 1.8056490421295166\n",
      "Learn 2.0248570442199707 2.0248570442199707\n",
      "Fix 1.8000819683074951 1.8000819683074951\n",
      "Dense 1.9591889381408691 1.8824189901351929\n",
      "Learn 1.5973801612854004 1.8111186027526855\n",
      "Fix 1.8437650203704834 1.8219234943389893\n",
      "Dense 1.8355379104614258 1.8667919635772705\n",
      "Learn 1.8176040649414062 1.813280423482259\n",
      "Fix 1.3886420726776123 1.677496353785197\n",
      "Dense 1.3774549961090088 1.744457721710205\n",
      "Learn 1.5435211658477783 1.745840609073639\n",
      "Fix 1.307938814163208 1.5851069688796997\n",
      "Dense 1.3523247241973877 1.6660311222076416\n",
      "Learn 1.54490327835083 1.705653142929077\n",
      "Fix 1.7700307369232178 1.6220917224884033\n",
      "Dense 1.3704371452331543 1.6167654593785603\n",
      "Learn 1.7504870891571045 1.713125467300415\n",
      "Fix 1.497770071029663 1.60137144724528\n",
      "Dense 1.608889102935791 1.6156402656010218\n",
      "Learn 1.7173349857330322 1.7137268270765031\n",
      "Fix 1.4134330749511719 1.5745231083461217\n",
      "Dense 1.6297600269317627 1.6174052357673645\n",
      "Learn 1.9123549461364746 1.7385553419589996\n",
      "Fix 1.5478839874267578 1.5711932182312012\n",
      "Dense 1.6565382480621338 1.6217533482445612\n",
      "Learn 1.729651927947998 1.737566073735555\n",
      "Fix 1.8796532154083252 1.6054665512508817\n"
     ]
    }
   ],
   "source": [
    "import time\n",
    "\n",
    "from numpy import average\n",
    "\n",
    "s_list = []\n",
    "t_list = []\n",
    "idx_list = []\n",
    "type_list = []\n",
    "loss_list = []\n",
    "error_list = []\n",
    "\n",
    "time_dic = {\"Dense\":[], \"Learn\":[], \"Fix\":[]}\n",
    "\n",
    "for s in sparsity_list:\n",
    "    sol_dic = {}\n",
    "    params = np.load(\"data/params_s{}.npz\".format(s))\n",
    "    S0 = params[\"S0\"]\n",
    "    S_init = params[\"S_init\"]\n",
    "    for i in range(3): #range(N_trial):\n",
    "        train_idx_list = idx_mat_train[i]\n",
    "        for method in [\"Dense\", \"Learn\", \"Fix\"]:\n",
    "            start = time.time()\n",
    "            S = S_init.copy()        \n",
    "            S_prev = S_init.copy()\n",
    "            for t in range(len(train_idx_list)):\n",
    "                A = As[train_idx_list[t]]\n",
    "                U, svals, Vh = svd_trnc(A, svd_prec)\n",
    "                Uk = U[:,:k]\n",
    "                \n",
    "                Sd = -.1*grad_fn(S, U, Uk)\n",
    "                S_prev = S\n",
    "                S += Sd\n",
    "                if method == \"Learn\":\n",
    "                    S *= topk_binary_matrix(S, s)\n",
    "                elif method == \"Fix\":\n",
    "                    S *= S0 \n",
    "\n",
    "            elapse = time.time() - start\n",
    "            time_dic[method].append(elapse)\n",
    "            print(method, elapse, average(time_dic[method]))\n",
    "            sol_dic[(method, i)] = np.array(S)\n",
    "    #np.save(\"result/sol_dic_s{}\".format(s), sol_dic)\n",
    "\n",
    "#df = pd.DataFrame(list(zip(s_list, t_list, idx_list, np.array(loss_list), np.array(error_list), type_list)), columns=[\"s\", \"t\", \"idx\", \"loss\", \"error\", \"method\"])\n",
    "#df.to_pickle(\"result/train_log.pkl\")"
   ]
  },
  {
   "cell_type": "markdown",
   "metadata": {},
   "source": [
    "## Compute test errors"
   ]
  },
  {
   "cell_type": "code",
   "execution_count": 17,
   "metadata": {},
   "outputs": [],
   "source": [
    "test_error_list = []\n",
    "type_list = []\n",
    "idx_list = []\n",
    "s_list = []\n",
    "\n",
    "for s in sparsity_list:\n",
    "    sol_dic = np.load(\"result/sol_dic_s{}.npy\".format(s), allow_pickle=True).item()\n",
    "    for method in [\"Dense\", \"Learn\", \"Fix\"]:    \n",
    "        for i in range(N_trial):\n",
    "            S = sol_dic[(method, i)]\n",
    "            test_error = np.average(np.array([jnp.linalg.norm(As[idx] - scw(S, As[idx], k, svd_prec), ord='fro')**2 for idx in idx_mat_test[i]]))\n",
    "            test_error_list.append(test_error)\n",
    "            type_list.append(method)\n",
    "            idx_list.append(i)\n",
    "            s_list.append(s)\n",
    "        \n",
    "df = pd.DataFrame(list(zip(s_list, idx_list, np.array(test_error_list), type_list)), columns=[\"s\", \"idx\", \"error\", \"method\"])\n",
    "#df.to_pickle(\"result/test_error.pkl\")"
   ]
  },
  {
   "cell_type": "markdown",
   "metadata": {},
   "source": [
    "# Analysis"
   ]
  },
  {
   "cell_type": "code",
   "execution_count": 18,
   "metadata": {},
   "outputs": [],
   "source": [
    "import matplotlib.pyplot as plt\n",
    "import matplotlib\n",
    "matplotlib.rcParams['ps.useafm']=True\n",
    "matplotlib.rcParams['pdf.use14corefonts']=True\n",
    "matplotlib.rcParams['text.usetex']=True\n",
    "import seaborn as sns\n",
    "sns.set(font_scale = 1.8)\n",
    "import numpy as np\n",
    "import pandas as pd\n",
    "import jax.numpy as jnp\n",
    "import itertools"
   ]
  },
  {
   "cell_type": "code",
   "execution_count": 25,
   "metadata": {},
   "outputs": [
    {
     "data": {
      "text/plain": [
       "<Figure size 432x288 with 0 Axes>"
      ]
     },
     "metadata": {},
     "output_type": "display_data"
    },
    {
     "data": {
      "text/plain": [
       "<Figure size 432x259.2 with 0 Axes>"
      ]
     },
     "metadata": {},
     "output_type": "display_data"
    },
    {
     "data": {
      "text/plain": [
       "<Figure size 432x259.2 with 0 Axes>"
      ]
     },
     "metadata": {},
     "output_type": "display_data"
    },
    {
     "data": {
      "text/plain": [
       "<Figure size 432x259.2 with 0 Axes>"
      ]
     },
     "metadata": {},
     "output_type": "display_data"
    },
    {
     "data": {
      "text/plain": [
       "<Figure size 432x259.2 with 0 Axes>"
      ]
     },
     "metadata": {},
     "output_type": "display_data"
    },
    {
     "data": {
      "text/plain": [
       "<Figure size 432x259.2 with 0 Axes>"
      ]
     },
     "metadata": {},
     "output_type": "display_data"
    },
    {
     "data": {
      "image/png": "[encoded data removed]",
      "text/plain": [
       "<Figure size 432x259.2 with 1 Axes>"
      ]
     },
     "metadata": {},
     "output_type": "display_data"
    }
   ],
   "source": [
    "df = pd.read_pickle(\"result/train_log.pkl\")\n",
    "sparsity_list = df.loc[:,\"s\"].unique()\n",
    "\n",
    "for ys in list(itertools.product([\"loss\", \"error\"], sparsity_list)):\n",
    "    plt.clf()\n",
    "    plt.figure(figsize=(6,3.6)) \n",
    "    dfs = df[df[\"s\"]==ys[1]] \n",
    "    ax = sns.lineplot(data=dfs, x=\"t\", y=ys[0], hue=\"method\", hue_order=[\"Dense\", \"Fix\", \"Learn\"], palette=[\"gray\", \"C0\", \"C1\"], ci=\"sd\")\n",
    "    ax.set(yscale=\"log\")\n",
    "    handles, labels = ax.get_legend_handles_labels()\n",
    "    labels = [r'\\rm Fix', r'\\rm Learn', r'\\rm Dense']\n",
    "    handles = [handles[1], handles[2], handles[0]]\n",
    "    if ys == ('loss', 1):\n",
    "        ax.legend(handles=handles, labels=labels, loc = 'center right', ncol=1)\n",
    "    else:\n",
    "        ax.legend(handles=handles, labels=labels, loc = 'upper right', ncol=1)\n",
    "    ax.set_xlabel(r\"\\rm Iteration\")\n",
    "    ylabel = r\"\\rm Surrogate Loss\" if ys[0] == \"loss\" else r\"\\rm SCW-based Loss\"\n",
    "    ax.set_ylabel(ylabel)\n",
    "    plt.tight_layout(pad=0, w_pad=0, h_pad=0)\n",
    "    plt.savefig('fig/train_{}_s{}.pdf'.format(ys[0], ys[1]), bbox_inches=\"tight\")"
   ]
  },
  {
   "cell_type": "code",
   "execution_count": 29,
   "metadata": {},
   "outputs": [
    {
     "data": {
      "image/png": "[encoded data removed]",
      "text/plain": [
       "<Figure size 432x252 with 1 Axes>"
      ]
     },
     "metadata": {},
     "output_type": "display_data"
    }
   ],
   "source": [
    "plt.figure(figsize=(6,3.5)) \n",
    "df = pd.read_pickle(\"result/test_error.pkl\")\n",
    "\n",
    "plt.ylim([.005, .006])\n",
    "ax = sns.barplot(x=\"s\", y=\"error\", data=df.loc[:, [\"s\", \"error\", \"method\"]], errwidth=1.5, capsize=.05, hue=\"method\", hue_order=[\"Fix\", \"Learn\", \"Dense\"], palette=[\"C0\", \"C1\", \"gray\"], ci=\"sd\")\n",
    "handles, labels = ax.get_legend_handles_labels()\n",
    "labels = [r'\\rm Fix', r'\\rm Learn', r'\\rm Dense']\n",
    "ax.legend(handles=handles, labels=labels, loc = 'upper right', ncol=1)\n",
    "ax.set_ylabel(r\"\\rm SCW-based Loss\")\n",
    "ax.set_xlabel(\"\")\n",
    "ax.set_xticklabels([r'$s={}$'.format(int(s)) for s in sparsity_list])\n",
    "plt.savefig('fig/test.pdf', bbox_inches=\"tight\")"
   ]
  }
 ],
 "metadata": {
  "kernelspec": {
   "display_name": "Python 3.9.12 64-bit ('base')",
   "language": "python",
   "name": "python3"
  },
  "language_info": {
   "codemirror_mode": {
    "name": "ipython",
    "version": 3
   },
   "file_extension": ".py",
   "mimetype": "text/x-python",
   "name": "python",
   "nbconvert_exporter": "python",
   "pygments_lexer": "ipython3",
   "version": "3.9.12"
  },
  "orig_nbformat": 4,
  "vscode": {
   "interpreter": {
    "hash": "29b3878564192ced288e4c3dd0e21525e4896caa299aa62d014e18603dce436a"
   }
  }
 },
 "nbformat": 4,
 "nbformat_minor": 2
}
